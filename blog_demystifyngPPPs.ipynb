{
 "cells": [
  {
   "cell_type": "markdown",
   "metadata": {},
   "source": [
    "# Demystifying ICP Purchasing Power Parity (PPP) Calculations\n",
    "\n",
    "####  Authors: William Vigil-Oliver and Shriya Chauhan"
   ]
  },
  {
   "cell_type": "markdown",
   "metadata": {},
   "source": [
    "---\n",
    "Contents\n",
    "- [Overview](#Overview) \n",
    "- [Load required Python libraries](#Libraries)  \n",
    "- [Load input data](#InputData) \n",
    "- [Basic heading PPPs](#BHPPP)  \n",
    "- [Above-basic heading PPPs](#aBHPPP)  \n",
    "---"
   ]
  },
  {
   "cell_type": "markdown",
   "metadata": {},
   "source": [
    "<a id=\"Overview\"></a>"
   ]
  },
  {
   "cell_type": "markdown",
   "metadata": {},
   "source": [
    "## Overview\n",
    "This notebook provides the accompanying code for the World Bank blog \"Demystifying ICP Purchasing Power Parity calculations using Python\". Its purpose is to lay out the calculation steps and showcase the implementation of the main formulas needed to estimate ICP purchasing power parities (PPPs). The blog post is publicly available [here](https://blogs.worldbank.org/opendata/demystifying-icp-purchasing-power-parity-calculations-using-python). \n",
    "\n",
    "*Note*: Because the target audience may include users unfamiliar with Python or programming in general, we opted to show each calculation step as explicitly as possible, at the cost of having more modularized and computationally efficient code."
   ]
  },
  {
   "cell_type": "markdown",
   "metadata": {},
   "source": [
    "<a id=\"Libraries\"></a>"
   ]
  },
  {
   "cell_type": "markdown",
   "metadata": {},
   "source": [
    "## Load required Python libraries\n",
    "The code will require loading the following well-known Python libaries: `pandas`, `numpy` and `statsmodels` "
   ]
  },
  {
   "cell_type": "code",
   "execution_count": null,
   "metadata": {
    "scrolled": true
   },
   "outputs": [],
   "source": [
    "## Load libraries \n",
    "import pandas as pd\n",
    "import numpy as np \n",
    "import statsmodels.api as sm"
   ]
  },
  {
   "cell_type": "markdown",
   "metadata": {},
   "source": [
    "<a id=\"InputData\"></a>"
   ]
  },
  {
   "cell_type": "markdown",
   "metadata": {},
   "source": [
    "## Load input data\n",
    "\n",
    "We start by loading the input dataset containing mock average price data and other relevant country-level information. "
   ]
  },
  {
   "cell_type": "code",
   "execution_count": null,
   "metadata": {
    "scrolled": true
   },
   "outputs": [],
   "source": [
    "#Load price data\n",
    "data=\"price_data.csv\"\n",
    "prices=pd.read_csv(data) \n",
    "prices # Show full dataset "
   ]
  },
  {
   "cell_type": "markdown",
   "metadata": {},
   "source": [
    "This mock dataset contains four countries ('country') and three basic headings ('bh'): garment; rice; and pork. ‘Basic headings' in the ICP literature refer to detailed expenditure categories containing similar item varieties, for example the ‘Rice’ basic heading contains several rice varieties. It is also the lowest level of aggregation for which PPPs are first calculated. The different item varieties in each basic heading are noted under the ‘item’ column, for example, within ‘garment’ there are three item varieties, identified as ‘garment 1’, ‘garment 2’, and ‘garment 3’. Finally, an average price in the local currency unit of each country is reported for each item ('price') and information on the relative importance of each item in a country’s consumption at the basic heading level is included for each item priced in the importance column ('imp'). Following the guidelines provided by the [ICP Technical Advisory Group](https://www.worldbank.org/en/programs/icp#3), countries assign a weight of '3' to items identified as 'important' within a given basic heading and a weight of '1' to items deemed unimportant.\n",
    "\n",
    "It should be highlighted that in practice the full [ICP classification](http://pubdocs.worldbank.org/en/708531575560035925/pdf/ICP-Classification-description-2019-1205.pdf) consists of 155 basic headings with the number of items within each varying from one basic heading to another. Also, not all countries are able to report prices for all items. These two realities are reflected in the example: some basic headings contain more items than others, and prices for some items are missing in some countries.\n"
   ]
  },
  {
   "cell_type": "markdown",
   "metadata": {},
   "source": [
    "<a id=\"BHPPP\"></a>"
   ]
  },
  {
   "cell_type": "markdown",
   "metadata": {},
   "source": [
    "## Basic heading PPPs\n",
    "\n",
    "PPPs are first estimated at the basic heading level resulting in a set of several PPPs per country, one PPP for each basic heading per country.\n",
    "\n",
    "The estimation procedure involves averaging price relatives for individual items from different countries within each basic heading to obtain basic heading-level PPPs. This is done via a regression method known as the weighted country product dummy (CPD-W).\n",
    "\n",
    "The CPD-W is carried out within each basic heading by regressing the logarithm of the observed country item prices on item dummies (one for each item) and country dummies (one for each country other than the numeraire). The CPD-W method also incorporates the country reported item-level importance indicators discussed earlier with the idea of “down-weighting” unrepresentative items during the calculation.\n"
   ]
  },
  {
   "cell_type": "markdown",
   "metadata": {},
   "source": [
    "###  Select the base or numeraire currency \n",
    "\n",
    "This refers to the currency against which all the estimated PPP values will be compared. In the case of the global PPP results, the numeraire is the US dollar. In this case, we select the currency of 'country2' as the numeraire and say that ‘country2’ is the base or reference country."
   ]
  },
  {
   "cell_type": "code",
   "execution_count": null,
   "metadata": {},
   "outputs": [],
   "source": [
    "## Select the base or numeraire currency\n",
    "numeraire = 'country2' "
   ]
  },
  {
   "cell_type": "markdown",
   "metadata": {},
   "source": [
    "###  Prep the inputs to run the CPD-W"
   ]
  },
  {
   "cell_type": "code",
   "execution_count": null,
   "metadata": {},
   "outputs": [],
   "source": [
    "## Prep\n",
    "## Drop country-item observations without a price\n",
    "prices = prices[prices['price'].notnull()]\n",
    "\n",
    "## Dataframe with country prices\n",
    "d_country=pd.get_dummies(prices['country'])\n",
    "\n",
    "## Prepare design matrix for CPD-W\n",
    "d_country=pd.get_dummies(prices['country'])\n",
    "d_country.drop(numeraire, axis=1, inplace=True) #drop numeraire\n",
    "d_country = d_country.add_prefix('c_') #add prefix to countries\n",
    "d_item=pd.get_dummies(prices['item'],drop_first=False) #include all item dummies\n",
    "d_item = d_item.add_prefix('i_') #add prefix to items\n",
    "prices=pd.concat([prices,d_country,d_item],axis=1) # Concatenate the new cols\n",
    "\n",
    "## Create empty arrays to store results\n",
    "l_coef= [] # to store exp(beta_hats)\n",
    "l_bh= [] # to store bh labels\n"
   ]
  },
  {
   "cell_type": "markdown",
   "metadata": {},
   "source": [
    "###  Run the CPD-W on each basic heading and store results"
   ]
  },
  {
   "cell_type": "code",
   "execution_count": null,
   "metadata": {},
   "outputs": [],
   "source": [
    "for bh in prices.bh.unique():\n",
    "    tempdf=prices[prices.bh == bh] \n",
    "    X=tempdf.loc[:, [x for x in tempdf.columns if x.startswith(('c_', 'i_'))]]\n",
    "    y = np.log(tempdf['price']) \n",
    "    wts=tempdf['imp']\n",
    "\n",
    "    wts_cpd=sm.WLS(y, X,weights=wts)\n",
    "    res=wts_cpd.fit()\n",
    "    res_eparams=np.exp(res.params)\n",
    "    \n",
    "    print(\"\\n\",\"Basic Heading:\", bh, \"\\n\")\n",
    "    print('Exponentiated Parameters:',\"\\n\",\n",
    "          res_eparams)\n",
    "    \n",
    "    l_coef.append(res_eparams)\n",
    "    l_bh.append(bh)\n",
    "\n",
    "coef = np.array(l_coef, dtype=float)\n",
    "coef = np.round(coef,4) # round to 4 decimals\n",
    "cols = list(X) #store column heads of X as a list\n",
    "coef[coef == 1] = np.nan #%% replace PPPs that were exp(0)=1 with 'np.nan'"
   ]
  },
  {
   "cell_type": "markdown",
   "metadata": {},
   "source": [
    "The results above show the estimated coefficients from the CPD-W method for each of the three basic headings. Of particular interest are the estimated coefficients on the country dummies (denoted by the prefix 'c_') as they are the natural log of the estimated country PPP for the basic heading in question. Note that the estimated coefficients have already been exponentiated."
   ]
  },
  {
   "cell_type": "markdown",
   "metadata": {},
   "source": [
    "###  Gather and display the estimated basic heading PPPs "
   ]
  },
  {
   "cell_type": "code",
   "execution_count": null,
   "metadata": {
    "scrolled": false
   },
   "outputs": [],
   "source": [
    "#Create dataframe of PPP results from numpy arrays\n",
    "#dimension = \"# BHs\" x \"# coef\"\n",
    "df_bhppp=pd.DataFrame(data = coef, index = l_bh, columns = cols)\n",
    "c_numeraire=f\"c_{numeraire}\"\n",
    "df_bhppp.insert(0, c_numeraire, 1.000) #insert column of 1s for numeraire\n",
    "\n",
    "df_bhppp=df_bhppp.loc[:, [x for x in df_bhppp.columns if x.startswith(('c_'))]] #subsetting to store only country level PPPs\n",
    "df_bhppp.columns = df_bhppp.columns.str.replace('^c_', '') \n",
    "\n",
    "#Column sorting function\n",
    "def sorting(first_col, df):\n",
    "    columns = df.columns.tolist()\n",
    "    columns.remove(first_col)\n",
    "    columns.insert(0,first_col)\n",
    "    return df.reindex(columns, axis=1)\n",
    "\n",
    "#Sort cols with numeraire as col1\n",
    "sorting(numeraire,df_bhppp)\n",
    "\n",
    "print(\"\\n\",\"Basic Heading PPPs\",\"\\n\")\n",
    "print(df_bhppp, \"\\n\")"
   ]
  },
  {
   "cell_type": "markdown",
   "metadata": {},
   "source": [
    "<a id=\"aBHPPP\"></a>"
   ]
  },
  {
   "cell_type": "markdown",
   "metadata": {},
   "source": [
    "## Above-basic heading PPPs\n",
    "\n",
    "Next, PPPs estimated at the basic heading level are aggregated using national accounts expenditure values in local currency units for each country as weights.\n",
    "\n",
    "The aggregation method involves constructing bilateral PPPs for each pair of countries, using basic heading-level national accounts expenditure values as weights from each country in turn. First, a Laspeyres-type bilateral PPP is calculated between each pair of countries and then a Paasche-type bilateral PPP. The geometric mean of the Laspeyres- and Paasche-type bilateral PPPs gives us the Fisher-type bilateral PPP between each pair of countries in the dataset. \n"
   ]
  },
  {
   "cell_type": "markdown",
   "metadata": {},
   "source": [
    "###  Load and display basic heading expenditure values\n",
    "As a first step for this second stage of the PPP calculation process, let us load the basic heading level national accounts expenditure values in local currency unit for each country."
   ]
  },
  {
   "cell_type": "code",
   "execution_count": null,
   "metadata": {},
   "outputs": [],
   "source": [
    "#Load basic heading expenditure values\n",
    "#Should contain bh and countries with prefix c\n",
    "code=\"bhdata_exp.csv\"\n",
    "df_bh=pd.read_csv(code,index_col=\"icp_bh\")"
   ]
  },
  {
   "cell_type": "code",
   "execution_count": null,
   "metadata": {},
   "outputs": [],
   "source": [
    "#Sort cols with numeraire as col1\n",
    "def sorting(first_col, df):\n",
    "    columns = df.columns.tolist()\n",
    "    columns.remove(first_col)\n",
    "    columns.insert(0,first_col)\n",
    "    return df.reindex(columns, axis=1)\n",
    "\n",
    "df_bhexp=sorting(c_numeraire,df_bh)\n",
    "\n",
    "#sort rows alphabetically \n",
    "df_bhexp=df_bhexp.sort_values('icp_bh')\n",
    "\n",
    "print(\"\\n\",\"Basic Heading Expenditure Values in Local Currency Units\",\"\\n\")\n",
    "print(df_bhexp, \"\\n\")"
   ]
  },
  {
   "cell_type": "markdown",
   "metadata": {},
   "source": [
    "###  Check the basic heading PPP and basic heading expenditure matrices\n",
    "Before proceeding, it is important to check that both the basic heading PPP and basic heading expenditure matrices have the same dimensions. It is also important to check that the matrix of basic heading PPPs is complete. If the dimensions of the two matrices do not match or the basic heading PPP matrix is incomplete then aggregation at higher aggregate levels is not possible using the formulas employed by the ICP. "
   ]
  },
  {
   "cell_type": "code",
   "execution_count": null,
   "metadata": {},
   "outputs": [],
   "source": [
    "df_bhexp.columns = df_bhexp.columns.str.replace('^c_', '') \n",
    "\n",
    "print(\"Dimensions of Matrices (No. of headings x No. of countries):\",\"\\n\")\n",
    "print(\"BH Purchasing Power Parities (PPPs)  = \",df_bhppp.shape)\n",
    "print(\"BH Nominal Expenditures in LCUs      = \", df_bhexp.shape)"
   ]
  },
  {
   "cell_type": "markdown",
   "metadata": {},
   "source": [
    "Both matrices have the same dimensions and basic heading PPP matrix is complete, so let us proceed."
   ]
  },
  {
   "cell_type": "markdown",
   "metadata": {},
   "source": [
    "###  Calculate bilateral PPPs (Laspeyres-, Paasche-, and Fisher-type)\n"
   ]
  },
  {
   "cell_type": "markdown",
   "metadata": {},
   "source": [
    "Calculate the Laspeyres-type bilateral PPPs"
   ]
  },
  {
   "cell_type": "code",
   "execution_count": null,
   "metadata": {},
   "outputs": [],
   "source": [
    "#Calculate Laspeyres bilateral PPPs \n",
    "shape = (len(df_bhexp.columns),len(df_bhexp.columns))\n",
    "lp = np.zeros(shape) #square matrix: country x country\n",
    "nrow= len(lp)  # gets the number of rows\n",
    "ncol = len(lp[0]) #get the number of cols\n",
    "\n",
    "for row in range(nrow):\n",
    "    for col in range(ncol):\n",
    "        #weighted means by looping over df rows\n",
    "        lp[row][col]= np.average((df_bhppp.iloc[:,row]/df_bhppp.iloc[:,col]),weights=df_bhexp.iloc[:,col])\n",
    "\n",
    "lp_ppp = lp\n",
    "lp_ppp=pd.DataFrame(data = lp_ppp, index = df_bhexp.columns, columns = df_bhexp.columns)\n",
    "lp_ppp = round(lp_ppp,3)"
   ]
  },
  {
   "cell_type": "markdown",
   "metadata": {},
   "source": [
    "Square ('country x country') matrix of Laspeyres-type (bilateral) PPPs"
   ]
  },
  {
   "cell_type": "code",
   "execution_count": null,
   "metadata": {},
   "outputs": [],
   "source": [
    "print(\"\\n\", \"Laspeyres-type bilateral PPPs:\",\"\\n\")\n",
    "print(lp_ppp, \"\\n\")"
   ]
  },
  {
   "cell_type": "markdown",
   "metadata": {},
   "source": [
    "Derive the Paasche-type bilateral PPPs by taking the reciprocal of the transpose of the Laspeyres-type bilateral PPP "
   ]
  },
  {
   "cell_type": "code",
   "execution_count": null,
   "metadata": {},
   "outputs": [],
   "source": [
    "#Calculate Paasche bilateral PPPs \n",
    "pa = np.transpose(np.reciprocal(lp))\n",
    "pa_ppp=pd.DataFrame(data = pa, index = df_bhexp.columns, columns = df_bhexp.columns)\n",
    "pa_ppp = round(pa_ppp,3)"
   ]
  },
  {
   "cell_type": "markdown",
   "metadata": {},
   "source": [
    "Square ('country x country') matrix of Paasche-type (bilateral) PPPs"
   ]
  },
  {
   "cell_type": "code",
   "execution_count": null,
   "metadata": {},
   "outputs": [],
   "source": [
    "print(\"\\n\", \"Paasche-type bilateral PPPs:\",\"\\n\")\n",
    "print(pa_ppp, \"\\n\")"
   ]
  },
  {
   "cell_type": "markdown",
   "metadata": {},
   "source": [
    "Derive the Fisher-type bilateral PPPs by taking the geometric mean of the Laspeyres-type \n",
    "and Paasche-type bilateral PPPs for the aggregate"
   ]
  },
  {
   "cell_type": "code",
   "execution_count": null,
   "metadata": {},
   "outputs": [],
   "source": [
    "#Create geomean function\n",
    "def nangmean(arr, axis=None):\n",
    "    arr = np.asarray(arr)\n",
    "    inverse_valids = 1. / np.sum(~np.isnan(arr), axis=axis)  # could be a problem for all-nan-axis\n",
    "    rhs = inverse_valids * np.nansum(np.log(arr), axis=axis)\n",
    "    return np.exp(rhs)\n",
    "\n",
    "#Calculate Fisher bilateral PPPs \n",
    "fi = np.zeros(shape)\n",
    "nrow=len(fi)\n",
    "ncol=len(fi[0])\n",
    "\n",
    "for row in range(nrow):\n",
    "    for col in range(ncol):\n",
    "        fi[row][col]= nangmean([lp[row][col],pa[row][col]])\n",
    "\n",
    "fi_ppp=pd.DataFrame(data = fi, index = df_bhexp.columns, columns = df_bhexp.columns)\n",
    "fi_ppp = round(fi_ppp,3)"
   ]
  },
  {
   "cell_type": "markdown",
   "metadata": {},
   "source": [
    "Square ('country x country') matrix of bilateral (Fisher-type) PPPs"
   ]
  },
  {
   "cell_type": "code",
   "execution_count": null,
   "metadata": {},
   "outputs": [],
   "source": [
    "print(\"Fisher-type bilateral PPPs:\",\"\\n\")\n",
    "print(fi_ppp, \"\\n\")"
   ]
  },
  {
   "cell_type": "markdown",
   "metadata": {},
   "source": [
    "###  Calculate GEKS PPPs\n",
    "\n",
    "As a last step, the Gini-Éltető-Köves-Szulc (GEKS) method is applied to the matrix of Fisher-type bilateral PPPs. GEKS PPPs are calculated between each country relative to the numeraire or base country. To this end, the first step is to divide each country row of the Fisher-type bilateral PPP matrix by the row of the numeraire country. Each row will then contain two direct PPPs (each country to itself and directly to the numeraire country) and n−2 indirect PPPs (each country to the numeraire country via each of the other third countries), where n equals the total number of countries in the dataset. Finally, the GEKS PPP for each country relative to the numeraire is given by the geometric mean of the direct and indirect PPPs in each respective country row. \n",
    "\n",
    "GEKS PPPs are considered 'multilateral' because the GEKS procedure uses both direct and indirect PPPs and thus takes into account the relative prices between all the countries as a group. The GEKS method is needed to make the Fisher-type bilateral PPPs transitive and base country-invariant. Transitivity means that the PPP between any two countries should be the same whether it is computed directly or indirectly through a third country. Base country-invariant means that the PPPs between any two countries should be the same regardless of the choice of base or numeraire country.\n"
   ]
  },
  {
   "cell_type": "code",
   "execution_count": null,
   "metadata": {},
   "outputs": [],
   "source": [
    "#Calculate GEKS multilateral ppps \n",
    "##requires the earlier nangmean function \n",
    "geks = np.zeros(shape)  # zero 'country x country' matrix\n",
    "nrow=len(geks)  # gets the number of rows\n",
    "ncol=len(geks[0])\n",
    "\n",
    "for row in range(nrow):\n",
    "    for col in range(ncol):\n",
    "        geks[row][col]= nangmean(fi[row]/fi[col])     \n",
    "\n",
    "geks_vec = np.zeros(shape=(1,len(df_bhexp.columns))) # as we need a vector of ppps, not a matrix\n",
    "j=len(geks_vec[0])\n",
    "for col in range(j):#..one PPP per country, or col of bhexp df\n",
    "    geks_vec[:,col]=nangmean(geks[col,0]/geks[0,0]) #geomean over each row, w/ each col rebased to country in col1    \n",
    "\n",
    "geks_ppp = np.array(geks_vec)"
   ]
  },
  {
   "cell_type": "markdown",
   "metadata": {},
   "source": [
    "Display the estimated vector of GEKS PPPs, containing one above-basic heading 'multilateral' PPP per country."
   ]
  },
  {
   "cell_type": "code",
   "execution_count": null,
   "metadata": {
    "scrolled": true
   },
   "outputs": [],
   "source": [
    "geks_ppp = pd.DataFrame(geks_ppp)\n",
    "geks_ppp.columns = df_bhexp.columns\n",
    "geks_ppp = round(geks_ppp,3)\n",
    "\n",
    "print(\"\\n\",\"GEKS Multilateral PPPs:\",\"\\n\")\n",
    "print(geks_ppp.to_string(index=False), \"\\n\")"
   ]
  },
  {
   "cell_type": "markdown",
   "metadata": {},
   "source": [
    "In the above example we showcased the main steps to calculate PPPs.  Information about the overall ICP methodology is provided on the [ICP website](https://www.worldbank.org/en/programs/icp/brief/methodology-calculation). "
   ]
  }
 ],
 "metadata": {
  "kernelspec": {
   "display_name": "Python 3",
   "language": "python",
   "name": "python3"
  },
  "language_info": {
   "codemirror_mode": {
    "name": "ipython",
    "version": 3
   },
   "file_extension": ".py",
   "mimetype": "text/x-python",
   "name": "python",
   "nbconvert_exporter": "python",
   "pygments_lexer": "ipython3",
   "version": "3.7.4"
  }
 },
 "nbformat": 4,
 "nbformat_minor": 2
}
