{
 "cells": [
  {
   "cell_type": "markdown",
   "metadata": {},
   "source": [
    "# Demystifying ICP Purchasing Power Parity (PPP) Calculations\n",
    "\n",
    "####  Authors: William Vigil-Oliver and Shriya Chahuan"
   ]
  },
  {
   "cell_type": "markdown",
   "metadata": {},
   "source": [
    "---\n",
    "Contents\n",
    "- [Overview](#Overview) \n",
    "- [Load required Python libraries](#Libraries)  \n",
    "- [Load input data](#InputData) \n",
    "- [Calculate basic heading PPPs](#BHPPP)  \n",
    "- [Calculate above-basic heading PPPs](#aBHPPP)  \n",
    "---"
   ]
  },
  {
   "cell_type": "markdown",
   "metadata": {},
   "source": [
    "<a id=\"Overview\"></a>"
   ]
  },
  {
   "cell_type": "markdown",
   "metadata": {},
   "source": [
    "## Overview\n",
    "This notebook provides the accompanying code for the World Bank blog \"Demystifying ICP Purchasing Power Parity (PPP) Calculations\". Its purpose is to lay out the calculation steps and showcase the implementation of the main formulas needed to estimate ICP purchasing power parities (PPPs) at the regional level. The blog post is publicly available [here](http://worldbank.org/xxxxx). \n",
    "\n",
    "*Note*: Because the target audience may include users unfamiliar with Python or programming in general, we opted to show each calculation step as explicitly as possible, at the cost of having more modularized and computationally efficient code."
   ]
  },
  {
   "cell_type": "markdown",
   "metadata": {},
   "source": [
    "<a id=\"Libraries\"></a>"
   ]
  },
  {
   "cell_type": "markdown",
   "metadata": {},
   "source": [
    "## Load required Python libraries\n",
    "The code will require loading the following well-known Python libaries: `pandas`, `numpy` and `statsmodels` "
   ]
  },
  {
   "cell_type": "code",
   "execution_count": 1,
   "metadata": {
    "scrolled": true
   },
   "outputs": [
    {
     "name": "stderr",
     "output_type": "stream",
     "text": [
      "C:\\Users\\WB385541\\Documents\\Tools\\Anaconda\\lib\\site-packages\\statsmodels\\tools\\_testing.py:19: FutureWarning: pandas.util.testing is deprecated. Use the functions in the public API at pandas.testing instead.\n",
      "  import pandas.util.testing as tm\n"
     ]
    }
   ],
   "source": [
    "## Load libaries \n",
    "import pandas as pd\n",
    "import numpy as np \n",
    "import statsmodels.api as sm"
   ]
  },
  {
   "cell_type": "markdown",
   "metadata": {},
   "source": [
    "<a id=\"InputData\"></a>"
   ]
  },
  {
   "cell_type": "markdown",
   "metadata": {},
   "source": [
    "## Load input data\n",
    "\n",
    "Let us start by loading input dataset containing mock average price data and other relevant country-level information. "
   ]
  },
  {
   "cell_type": "code",
   "execution_count": 2,
   "metadata": {
    "scrolled": true
   },
   "outputs": [
    {
     "data": {
      "text/html": [
       "<div>\n",
       "<style scoped>\n",
       "    .dataframe tbody tr th:only-of-type {\n",
       "        vertical-align: middle;\n",
       "    }\n",
       "\n",
       "    .dataframe tbody tr th {\n",
       "        vertical-align: top;\n",
       "    }\n",
       "\n",
       "    .dataframe thead th {\n",
       "        text-align: right;\n",
       "    }\n",
       "</style>\n",
       "<table border=\"1\" class=\"dataframe\">\n",
       "  <thead>\n",
       "    <tr style=\"text-align: right;\">\n",
       "      <th></th>\n",
       "      <th>country</th>\n",
       "      <th>bh</th>\n",
       "      <th>item</th>\n",
       "      <th>price</th>\n",
       "      <th>imp</th>\n",
       "    </tr>\n",
       "  </thead>\n",
       "  <tbody>\n",
       "    <tr>\n",
       "      <th>0</th>\n",
       "      <td>country1</td>\n",
       "      <td>garment</td>\n",
       "      <td>garment1</td>\n",
       "      <td>4500.380</td>\n",
       "      <td>3.0</td>\n",
       "    </tr>\n",
       "    <tr>\n",
       "      <th>1</th>\n",
       "      <td>country1</td>\n",
       "      <td>garment</td>\n",
       "      <td>garment2</td>\n",
       "      <td>11583.390</td>\n",
       "      <td>3.0</td>\n",
       "    </tr>\n",
       "    <tr>\n",
       "      <th>2</th>\n",
       "      <td>country1</td>\n",
       "      <td>garment</td>\n",
       "      <td>garment3</td>\n",
       "      <td>7000.940</td>\n",
       "      <td>1.0</td>\n",
       "    </tr>\n",
       "    <tr>\n",
       "      <th>3</th>\n",
       "      <td>country1</td>\n",
       "      <td>pork</td>\n",
       "      <td>pork1</td>\n",
       "      <td>2500.710</td>\n",
       "      <td>1.0</td>\n",
       "    </tr>\n",
       "    <tr>\n",
       "      <th>4</th>\n",
       "      <td>country1</td>\n",
       "      <td>pork</td>\n",
       "      <td>pork2</td>\n",
       "      <td>3561.450</td>\n",
       "      <td>1.0</td>\n",
       "    </tr>\n",
       "    <tr>\n",
       "      <th>5</th>\n",
       "      <td>country1</td>\n",
       "      <td>rice</td>\n",
       "      <td>rice1</td>\n",
       "      <td>1020.220</td>\n",
       "      <td>1.0</td>\n",
       "    </tr>\n",
       "    <tr>\n",
       "      <th>6</th>\n",
       "      <td>country1</td>\n",
       "      <td>rice</td>\n",
       "      <td>rice2</td>\n",
       "      <td>1000.000</td>\n",
       "      <td>1.0</td>\n",
       "    </tr>\n",
       "    <tr>\n",
       "      <th>7</th>\n",
       "      <td>country2</td>\n",
       "      <td>garment</td>\n",
       "      <td>garment1</td>\n",
       "      <td>700.566</td>\n",
       "      <td>1.0</td>\n",
       "    </tr>\n",
       "    <tr>\n",
       "      <th>8</th>\n",
       "      <td>country2</td>\n",
       "      <td>garment</td>\n",
       "      <td>garment2</td>\n",
       "      <td>877.950</td>\n",
       "      <td>3.0</td>\n",
       "    </tr>\n",
       "    <tr>\n",
       "      <th>9</th>\n",
       "      <td>country2</td>\n",
       "      <td>garment</td>\n",
       "      <td>garment3</td>\n",
       "      <td>616.870</td>\n",
       "      <td>3.0</td>\n",
       "    </tr>\n",
       "    <tr>\n",
       "      <th>10</th>\n",
       "      <td>country2</td>\n",
       "      <td>pork</td>\n",
       "      <td>pork1</td>\n",
       "      <td>199.370</td>\n",
       "      <td>3.0</td>\n",
       "    </tr>\n",
       "    <tr>\n",
       "      <th>11</th>\n",
       "      <td>country2</td>\n",
       "      <td>pork</td>\n",
       "      <td>pork2</td>\n",
       "      <td>192.910</td>\n",
       "      <td>1.0</td>\n",
       "    </tr>\n",
       "    <tr>\n",
       "      <th>12</th>\n",
       "      <td>country2</td>\n",
       "      <td>rice</td>\n",
       "      <td>rice1</td>\n",
       "      <td>70.020</td>\n",
       "      <td>3.0</td>\n",
       "    </tr>\n",
       "    <tr>\n",
       "      <th>13</th>\n",
       "      <td>country2</td>\n",
       "      <td>rice</td>\n",
       "      <td>rice2</td>\n",
       "      <td>80.330</td>\n",
       "      <td>1.0</td>\n",
       "    </tr>\n",
       "    <tr>\n",
       "      <th>14</th>\n",
       "      <td>country3</td>\n",
       "      <td>garment</td>\n",
       "      <td>garment1</td>\n",
       "      <td>15000.600</td>\n",
       "      <td>3.0</td>\n",
       "    </tr>\n",
       "    <tr>\n",
       "      <th>15</th>\n",
       "      <td>country3</td>\n",
       "      <td>garment</td>\n",
       "      <td>garment2</td>\n",
       "      <td>16934.210</td>\n",
       "      <td>1.0</td>\n",
       "    </tr>\n",
       "    <tr>\n",
       "      <th>16</th>\n",
       "      <td>country3</td>\n",
       "      <td>garment</td>\n",
       "      <td>garment3</td>\n",
       "      <td>7500.820</td>\n",
       "      <td>1.0</td>\n",
       "    </tr>\n",
       "    <tr>\n",
       "      <th>17</th>\n",
       "      <td>country3</td>\n",
       "      <td>pork</td>\n",
       "      <td>pork1</td>\n",
       "      <td>3451.150</td>\n",
       "      <td>3.0</td>\n",
       "    </tr>\n",
       "    <tr>\n",
       "      <th>18</th>\n",
       "      <td>country3</td>\n",
       "      <td>pork</td>\n",
       "      <td>pork2</td>\n",
       "      <td>NaN</td>\n",
       "      <td>NaN</td>\n",
       "    </tr>\n",
       "    <tr>\n",
       "      <th>19</th>\n",
       "      <td>country3</td>\n",
       "      <td>rice</td>\n",
       "      <td>rice1</td>\n",
       "      <td>780.000</td>\n",
       "      <td>3.0</td>\n",
       "    </tr>\n",
       "    <tr>\n",
       "      <th>20</th>\n",
       "      <td>country3</td>\n",
       "      <td>rice</td>\n",
       "      <td>rice2</td>\n",
       "      <td>728.480</td>\n",
       "      <td>3.0</td>\n",
       "    </tr>\n",
       "    <tr>\n",
       "      <th>21</th>\n",
       "      <td>country4</td>\n",
       "      <td>garment</td>\n",
       "      <td>garment1</td>\n",
       "      <td>NaN</td>\n",
       "      <td>NaN</td>\n",
       "    </tr>\n",
       "    <tr>\n",
       "      <th>22</th>\n",
       "      <td>country4</td>\n",
       "      <td>garment</td>\n",
       "      <td>garment2</td>\n",
       "      <td>88.930</td>\n",
       "      <td>1.0</td>\n",
       "    </tr>\n",
       "    <tr>\n",
       "      <th>23</th>\n",
       "      <td>country4</td>\n",
       "      <td>garment</td>\n",
       "      <td>garment3</td>\n",
       "      <td>55.700</td>\n",
       "      <td>3.0</td>\n",
       "    </tr>\n",
       "    <tr>\n",
       "      <th>24</th>\n",
       "      <td>country4</td>\n",
       "      <td>pork</td>\n",
       "      <td>pork1</td>\n",
       "      <td>15.250</td>\n",
       "      <td>3.0</td>\n",
       "    </tr>\n",
       "    <tr>\n",
       "      <th>25</th>\n",
       "      <td>country4</td>\n",
       "      <td>pork</td>\n",
       "      <td>pork2</td>\n",
       "      <td>30.540</td>\n",
       "      <td>1.0</td>\n",
       "    </tr>\n",
       "    <tr>\n",
       "      <th>26</th>\n",
       "      <td>country4</td>\n",
       "      <td>rice</td>\n",
       "      <td>rice1</td>\n",
       "      <td>5.100</td>\n",
       "      <td>3.0</td>\n",
       "    </tr>\n",
       "    <tr>\n",
       "      <th>27</th>\n",
       "      <td>country4</td>\n",
       "      <td>rice</td>\n",
       "      <td>rice2</td>\n",
       "      <td>4.250</td>\n",
       "      <td>1.0</td>\n",
       "    </tr>\n",
       "  </tbody>\n",
       "</table>\n",
       "</div>"
      ],
      "text/plain": [
       "     country       bh      item      price  imp\n",
       "0   country1  garment  garment1   4500.380  3.0\n",
       "1   country1  garment  garment2  11583.390  3.0\n",
       "2   country1  garment  garment3   7000.940  1.0\n",
       "3   country1     pork     pork1   2500.710  1.0\n",
       "4   country1     pork     pork2   3561.450  1.0\n",
       "5   country1     rice     rice1   1020.220  1.0\n",
       "6   country1     rice     rice2   1000.000  1.0\n",
       "7   country2  garment  garment1    700.566  1.0\n",
       "8   country2  garment  garment2    877.950  3.0\n",
       "9   country2  garment  garment3    616.870  3.0\n",
       "10  country2     pork     pork1    199.370  3.0\n",
       "11  country2     pork     pork2    192.910  1.0\n",
       "12  country2     rice     rice1     70.020  3.0\n",
       "13  country2     rice     rice2     80.330  1.0\n",
       "14  country3  garment  garment1  15000.600  3.0\n",
       "15  country3  garment  garment2  16934.210  1.0\n",
       "16  country3  garment  garment3   7500.820  1.0\n",
       "17  country3     pork     pork1   3451.150  3.0\n",
       "18  country3     pork     pork2        NaN  NaN\n",
       "19  country3     rice     rice1    780.000  3.0\n",
       "20  country3     rice     rice2    728.480  3.0\n",
       "21  country4  garment  garment1        NaN  NaN\n",
       "22  country4  garment  garment2     88.930  1.0\n",
       "23  country4  garment  garment3     55.700  3.0\n",
       "24  country4     pork     pork1     15.250  3.0\n",
       "25  country4     pork     pork2     30.540  1.0\n",
       "26  country4     rice     rice1      5.100  3.0\n",
       "27  country4     rice     rice2      4.250  1.0"
      ]
     },
     "execution_count": 2,
     "metadata": {},
     "output_type": "execute_result"
    }
   ],
   "source": [
    "#Load price data\n",
    "data=\"price_data.csv\"\n",
    "prices=pd.read_csv(data) \n",
    "prices # Show full dataset "
   ]
  },
  {
   "cell_type": "markdown",
   "metadata": {},
   "source": [
    "This mock dataset contains four countries ('country') and three basic headings ('bh'): garment, rice and pork. Each basic heading contains different varieties of garment, rice and pork. These varieties are contained in the column 'item'. Finally, an average price in local curreny unit is reported for each item ('price') and information on the relative importance of each item in a country’s consumption at the basic heading level is contained in the importance column ('imp'). The ICP Technical Advisory Group (TAG) recommended that a weight of '3' be attached to items identified as 'important' and a weight of '1' to items deemed unimportant.\n",
    "\n",
    "Notice that the number of item per basic headings varies from three (in the case of garments) to two (rice and pork). This should not be a problem and is common ocurrence in the ICP as basic headings vary in terms of the number of items they contain. Also, notice that not all countries report prices for all items. Again, this a common situation in the actual ICP as not all items can be found or are priced in all countries."
   ]
  },
  {
   "cell_type": "markdown",
   "metadata": {},
   "source": [
    "<a id=\"BHPPP\"></a>"
   ]
  },
  {
   "cell_type": "markdown",
   "metadata": {},
   "source": [
    "## Calculate basic heading PPPs\n",
    "\n",
    "At the first stage, PPPs are first estimated for more than one hundred groups containing similar items. These groups are called 'basic headings' in the ICP literature. The basic heading is also the level of aggregation for which national accounts expenditure values can typically be provided by ICP-participating countries (which is rarely possible at, say, the item-level). The end-result of this first calculation stage are a set of several PPPs per country, one PPP for each basic heading per country.\n",
    "\n",
    "The estimation procedure involves averaging price relatives for individual items from different countries within each basic heading to obtain basic heading level PPPs. This is done via a regression method known as the weighted country product dummy (CPD-W). \n",
    "\n",
    "The CPD-W is carried out within each basic heading by regressing the logarithm of the observed country item prices on item dummies (one for each item) and country dummies (one for each country other than the numeraire). The CPD-W method also incorporates information on the relative importance of each item in a country’s consumption. Information about the relative importance of each item is reported by each ICP participating country. "
   ]
  },
  {
   "cell_type": "markdown",
   "metadata": {},
   "source": [
    "###  Select the numeraire\n",
    "This refers to the currrency against which all the estimated PPP values will be compared. In the case of the global PPP results, the numeraire would be the US dollar. In this case, we select the currency of 'country2' as the numeraire."
   ]
  },
  {
   "cell_type": "code",
   "execution_count": 3,
   "metadata": {},
   "outputs": [],
   "source": [
    "## Select the reference or numeraire currency\n",
    "numeraire = 'country2' "
   ]
  },
  {
   "cell_type": "markdown",
   "metadata": {},
   "source": [
    "###  Prep the inputs to run the CPD-W"
   ]
  },
  {
   "cell_type": "code",
   "execution_count": 4,
   "metadata": {},
   "outputs": [],
   "source": [
    "## Prep\n",
    "## Drop country-item observations without a price\n",
    "prices = prices[prices['price'].notnull()]\n",
    "\n",
    "## Dataframe with country prices\n",
    "d_country=pd.get_dummies(prices['country'])\n",
    "\n",
    "## Prepare design matrix for CPD-W\n",
    "d_country=pd.get_dummies(prices['country'])\n",
    "d_country.drop(numeraire, axis=1, inplace=True) #drop numeraire\n",
    "d_country = d_country.add_prefix('c_') #add prefix to countries\n",
    "d_item=pd.get_dummies(prices['item'],drop_first=False) #include all item dummies\n",
    "d_item = d_item.add_prefix('i_') #add prefix to items\n",
    "prices=pd.concat([prices,d_country,d_item],axis=1) # Concatenate the new cols\n",
    "\n",
    "## Create empty arrays to store results\n",
    "l_coef= [] # to store exp(beta_hats)\n",
    "l_bh= [] # to store bh labels\n"
   ]
  },
  {
   "cell_type": "markdown",
   "metadata": {},
   "source": [
    "###  Run the CPD-W on each basic heading and store results"
   ]
  },
  {
   "cell_type": "code",
   "execution_count": 5,
   "metadata": {},
   "outputs": [
    {
     "name": "stdout",
     "output_type": "stream",
     "text": [
      "\n",
      " Basic Heading: garment \n",
      "\n",
      "Exponentiated Parameters: \n",
      " c_country1      9.743516\n",
      "c_country3     20.360644\n",
      "c_country4      0.094657\n",
      "i_garment1    598.805582\n",
      "i_garment2    985.325043\n",
      "i_garment3    579.168568\n",
      "i_pork1         1.000000\n",
      "i_pork2         1.000000\n",
      "i_rice1         1.000000\n",
      "i_rice2         1.000000\n",
      "dtype: float64\n",
      "\n",
      " Basic Heading: pork \n",
      "\n",
      "Exponentiated Parameters: \n",
      " c_country1     13.874905\n",
      "c_country3     18.985054\n",
      "c_country4      0.091746\n",
      "i_garment1      1.000000\n",
      "i_garment2      1.000000\n",
      "i_garment3      1.000000\n",
      "i_pork1       181.782469\n",
      "i_pork2       254.494367\n",
      "i_rice1         1.000000\n",
      "i_rice2         1.000000\n",
      "dtype: float64\n",
      "\n",
      " Basic Heading: rice \n",
      "\n",
      "Exponentiated Parameters: \n",
      " c_country1    14.084683\n",
      "c_country3    10.511296\n",
      "c_country4     0.067242\n",
      "i_garment1     1.000000\n",
      "i_garment2     1.000000\n",
      "i_garment3     1.000000\n",
      "i_pork1        1.000000\n",
      "i_pork2        1.000000\n",
      "i_rice1       73.227162\n",
      "i_rice2       70.230777\n",
      "dtype: float64\n"
     ]
    }
   ],
   "source": [
    "for bh in prices.bh.unique():\n",
    "    tempdf=prices[prices.bh == bh] \n",
    "    X=tempdf.loc[:, [x for x in tempdf.columns if x.startswith(('c_', 'i_'))]]\n",
    "    y = np.log(tempdf['price']) \n",
    "    wts=tempdf['imp']\n",
    "\n",
    "    wts_cpd=sm.WLS(y, X,weights=wts)\n",
    "    res=wts_cpd.fit()\n",
    "    res_eparams=np.exp(res.params)\n",
    "    \n",
    "    print(\"\\n\",\"Basic Heading:\", bh, \"\\n\")\n",
    "    print('Exponentiated Parameters:',\"\\n\",\n",
    "          res_eparams)\n",
    "    \n",
    "    l_coef.append(res_eparams)\n",
    "    l_bh.append(bh)\n",
    "\n",
    "coef = np.array(l_coef, dtype=float)\n",
    "coef = np.round(coef,4) # round to 4 decimals\n",
    "cols = list(X) #store column heads of X as a list\n",
    "coef[coef == 1] = np.nan #%% replace PPPs that were exp(0)=1 with 'np.nan'"
   ]
  },
  {
   "cell_type": "markdown",
   "metadata": {},
   "source": [
    "The results above show the estimated coefficients from the CPD-W method for each of the three basic headings. Of particular interest are the estimated coefficients on the country dummies (denoted by the prefix 'c_') as they are the natural log of the estimated country PPP for the basic heading in question. Note that the estimated coefficients have already been exponentiated."
   ]
  },
  {
   "cell_type": "markdown",
   "metadata": {},
   "source": [
    "###  Gather and display the estimated basic heading PPPs "
   ]
  },
  {
   "cell_type": "code",
   "execution_count": 6,
   "metadata": {
    "scrolled": false
   },
   "outputs": [
    {
     "name": "stdout",
     "output_type": "stream",
     "text": [
      "\n",
      " Basic Heading PPPs \n",
      "\n",
      "         country2  country1  country3  country4\n",
      "garment       1.0    9.7435   20.3606    0.0947\n",
      "pork          1.0   13.8749   18.9851    0.0917\n",
      "rice          1.0   14.0847   10.5113    0.0672 \n",
      "\n"
     ]
    }
   ],
   "source": [
    "#Create dataframe of PPP results from numpy arrays\n",
    "#dimension = \"# BHs\" x \"# coef\"\n",
    "df_bhppp=pd.DataFrame(data = coef, index = l_bh, columns = cols)\n",
    "c_numeraire=f\"c_{numeraire}\"\n",
    "df_bhppp.insert(0, c_numeraire, 1.000) #insert column of 1s for numeraire\n",
    "\n",
    "df_bhppp=df_bhppp.loc[:, [x for x in df_bhppp.columns if x.startswith(('c_'))]] #subsetting to store only country level PPPs\n",
    "df_bhppp.columns = df_bhppp.columns.str.replace('^c_', '') \n",
    "\n",
    "#Column sorting function\n",
    "def sorting(first_col, df):\n",
    "    columns = df.columns.tolist()\n",
    "    columns.remove(first_col)\n",
    "    columns.insert(0,first_col)\n",
    "    return df.reindex(columns, axis=1)\n",
    "\n",
    "#Sort cols with numeraire as col1\n",
    "sorting(numeraire,df_bhppp)\n",
    "\n",
    "print(\"\\n\",\"Basic Heading PPPs\",\"\\n\")\n",
    "print(df_bhppp, \"\\n\")"
   ]
  },
  {
   "cell_type": "markdown",
   "metadata": {},
   "source": [
    "<a id=\"aBHPPP\"></a>"
   ]
  },
  {
   "cell_type": "markdown",
   "metadata": {},
   "source": [
    "## Calculate above-basic heading PPPs\n",
    "\n",
    "At the second stage of calculation, PPPs estimated at the basic heading level are aggregated using national accounts expenditures values in local currency for each country as weights.\n",
    "\n",
    "The aggregation method involves constructing bilateral PPPs for each pair of countries, using basic heading level national accounts expenditure values as weights from each country in turn. First, a Laspeyres-type bilateral PPP is calculated between each pair of countries, then a Paasche-type bilateral PPP and finally a Fisher-type bilateral PPP. As a last step, the matrix of Fisher-type bilateral PPPs is made transitive using the Gini-Éltető-Köves-Szulc (GEKS) approach to arrive at a final vector of above basic headings PPPs, containing one PPP for each country relative to the numeraire."
   ]
  },
  {
   "cell_type": "markdown",
   "metadata": {},
   "source": [
    "###  Load and display basic heading expenditure values\n",
    "As a first step let us load the basic heading level national accounts expenditure values in local currency unit for each country."
   ]
  },
  {
   "cell_type": "code",
   "execution_count": 7,
   "metadata": {},
   "outputs": [],
   "source": [
    "#Load basic heading expenditure values\n",
    "#Should contain bh and countries with prefix c\n",
    "code=\"bhdata_exp.csv\"\n",
    "df_bh=pd.read_csv(code,index_col=\"icp_bh\")"
   ]
  },
  {
   "cell_type": "code",
   "execution_count": 8,
   "metadata": {},
   "outputs": [
    {
     "name": "stdout",
     "output_type": "stream",
     "text": [
      "\n",
      " Basic Heading Expenditure Values in Local Currency Units \n",
      "\n",
      "           c_country2    c_country1    c_country3  c_country4\n",
      "icp_bh                                                       \n",
      "rice     2.120000e+12  1.205536e+10  1.945658e+10  6900940414\n",
      "beef     1.971454e+10  8.160799e+10  2.768787e+10  7189988899\n",
      "garment  1.270000e+12  7.108761e+08  1.000000e+11  1446676800 \n",
      "\n"
     ]
    }
   ],
   "source": [
    "#Sort cols with numeraire as col1\n",
    "def sorting(first_col, df):\n",
    "    columns = df.columns.tolist()\n",
    "    columns.remove(first_col)\n",
    "    columns.insert(0,first_col)\n",
    "    return df.reindex(columns, axis=1)\n",
    "\n",
    "df_bhexp=sorting(c_numeraire,df_bh)\n",
    "\n",
    "print(\"\\n\",\"Basic Heading Expenditure Values in Local Currency Units\",\"\\n\")\n",
    "print(df_bhexp, \"\\n\")"
   ]
  },
  {
   "cell_type": "markdown",
   "metadata": {},
   "source": [
    "###  Check the basic heading PPP and basic heading expenditure matrices\n",
    "Before proceeding, it is important to check that both the basic heading PPP and basic heading expenditure matrices have the same dimensions. It is also important to check that the matrix of basic heading PPPs is complete. If the dimensions of the two matrices do not match or the basic heading PPP matrix is incomplete then aggregation at higher aggregate levels is not possible using the formulas employed by the ICP. "
   ]
  },
  {
   "cell_type": "code",
   "execution_count": 9,
   "metadata": {},
   "outputs": [
    {
     "name": "stdout",
     "output_type": "stream",
     "text": [
      "Dimensions of Matrices (no. of headings x no. of countries): \n",
      "\n",
      "BH Purchasing Power Parities (PPPs)  =  (3, 4)\n",
      "BH Nominal Expenditures in LCUs      =  (3, 4)\n"
     ]
    }
   ],
   "source": [
    "df_bhexp.columns = df_bhexp.columns.str.replace('^c_', '') \n",
    "\n",
    "print(\"Dimensions of Matrices (no. of headings x no. of countries):\",\"\\n\")\n",
    "print(\"BH Purchasing Power Parities (PPPs)  = \",df_bhppp.shape)\n",
    "print(\"BH Nominal Expenditures in LCUs      = \", df_bhexp.shape)"
   ]
  },
  {
   "cell_type": "markdown",
   "metadata": {},
   "source": [
    "Both matrices have the same dimensions and basic heading PPP matrix is complete, so let us proceed."
   ]
  },
  {
   "cell_type": "markdown",
   "metadata": {},
   "source": [
    "###  Calculate bilateral PPPs (Laspeyres-, Paasche-, and Fisher-type)\n"
   ]
  },
  {
   "cell_type": "markdown",
   "metadata": {},
   "source": [
    "Laspeyres-type bilateral PPPs"
   ]
  },
  {
   "cell_type": "code",
   "execution_count": 10,
   "metadata": {},
   "outputs": [],
   "source": [
    "#Calculate Laspeyres bilateral ppps \n",
    "shape = (len(df_bhexp.columns),len(df_bhexp.columns))\n",
    "lp = np.zeros(shape) #square matrix: country x country\n",
    "nrow= len(lp)  # gets the number of rows\n",
    "ncol = len(lp[0]) #get the number of cols\n",
    "\n",
    "for row in range(nrow):\n",
    "    for col in range(ncol):\n",
    "        #weighted means by looping over df rows\n",
    "        lp[row][col]= np.average((df_bhppp.iloc[:,row]/df_bhppp.iloc[:,col]),weights=df_bhexp.iloc[:,col])\n",
    "\n",
    "lp_ppp = lp"
   ]
  },
  {
   "cell_type": "markdown",
   "metadata": {},
   "source": [
    "Square ('country x country') matrix of bilateral (Laspeyres-type) PPPs"
   ]
  },
  {
   "cell_type": "code",
   "execution_count": 11,
   "metadata": {},
   "outputs": [
    {
     "name": "stdout",
     "output_type": "stream",
     "text": [
      "Laspeyres-type bilateral PPPs: \n",
      " [[1.00000000e+00 7.59682297e-02 8.10602828e-02 1.11218715e+01]\n",
      " [1.13843332e+01 1.00000000e+00 1.11143732e+00 1.35229214e+02]\n",
      " [1.66841256e+01 1.45576582e+00 1.00000000e+00 2.05860193e+02]\n",
      " [8.44398614e-02 6.99251485e-03 5.86867217e-03 1.00000000e+00]]\n"
     ]
    }
   ],
   "source": [
    "print(\"Laspeyres-type bilateral PPPs:\",\"\\n\", lp_ppp)"
   ]
  },
  {
   "cell_type": "markdown",
   "metadata": {},
   "source": [
    "Paasche-type bilateral PPPs"
   ]
  },
  {
   "cell_type": "code",
   "execution_count": 12,
   "metadata": {},
   "outputs": [],
   "source": [
    "#Calculate Paasche bilateral ppps \n",
    "pa_ppp = np.transpose(np.reciprocal(lp_ppp))\n"
   ]
  },
  {
   "cell_type": "markdown",
   "metadata": {},
   "source": [
    "Square ('country x country') matrix of bilateral (Paasche-type) PPPs"
   ]
  },
  {
   "cell_type": "code",
   "execution_count": 13,
   "metadata": {},
   "outputs": [
    {
     "name": "stdout",
     "output_type": "stream",
     "text": [
      "Paasche-type bilateral PPPs: \n",
      " [[1.00000000e+00 8.78400155e-02 5.99372137e-02 1.18427480e+01]\n",
      " [1.31633974e+01 1.00000000e+00 6.86923671e-01 1.43010065e+02]\n",
      " [1.23364978e+01 8.99735844e-01 1.00000000e+00 1.70396296e+02]\n",
      " [8.99129254e-02 7.39485183e-03 4.85766570e-03 1.00000000e+00]]\n"
     ]
    }
   ],
   "source": [
    "print(\"Paasche-type bilateral PPPs:\",\"\\n\", pa_ppp)"
   ]
  },
  {
   "cell_type": "markdown",
   "metadata": {},
   "source": [
    "Fisher-type bilateral PPPs by taking the geometric mean of the Laspeyres-type PPP\n",
    "and the Paasche-type PPP for the aggregate"
   ]
  },
  {
   "cell_type": "code",
   "execution_count": 14,
   "metadata": {},
   "outputs": [],
   "source": [
    "#Create geomean function\n",
    "def nangmean(arr, axis=None):\n",
    "    arr = np.asarray(arr)\n",
    "    inverse_valids = 1. / np.sum(~np.isnan(arr), axis=axis)  # could be a problem for all-nan-axis\n",
    "    rhs = inverse_valids * np.nansum(np.log(arr), axis=axis)\n",
    "    return np.exp(rhs)\n",
    "\n",
    "#Calculate Fisher bilateral ppps \n",
    "fi = np.zeros(shape)\n",
    "nrow=len(fi)\n",
    "ncol=len(fi[0])\n",
    "\n",
    "for row in range(nrow):\n",
    "    for col in range(ncol):\n",
    "        fi[row][col]= nangmean([lp_ppp[row][col],pa_ppp[row][col]])\n",
    "        \n",
    "fi_ppp = fi"
   ]
  },
  {
   "cell_type": "markdown",
   "metadata": {},
   "source": [
    "Square ('country x country') matrix of bilateral (Fisher-type) PPPs"
   ]
  },
  {
   "cell_type": "code",
   "execution_count": 15,
   "metadata": {},
   "outputs": [
    {
     "name": "stdout",
     "output_type": "stream",
     "text": [
      "Fisher-type bilateral PPPs: \n",
      " [[1.00000000e+00 8.16887414e-02 6.97031383e-02 1.14766511e+01]\n",
      " [1.22415890e+01 1.00000000e+00 8.73769196e-01 1.39065232e+02]\n",
      " [1.43465563e+01 1.14446699e+00 1.00000000e+00 1.87290722e+02]\n",
      " [8.71334320e-02 7.19086999e-03 5.33929279e-03 1.00000000e+00]]\n"
     ]
    }
   ],
   "source": [
    "print(\"Fisher-type bilateral PPPs:\",\"\\n\", fi_ppp)"
   ]
  },
  {
   "cell_type": "markdown",
   "metadata": {},
   "source": [
    "###  Calculate GEKS PPPs\n",
    "\n",
    "Finally, let us calculate the GEKS PPPs between each country and the numeraire. The GEKS PPPs for country with respect to the numeraire is given by the geometric mean of the Fisher-type PPP relatives between each pair of countries and the remaining countries. The result is not a matrix of bilateral PPPs but, instead, a vector of PPPs (one PPP per country). \n",
    "\n",
    "This vector of PPPs is referred to as 'multilateral PPPs' because the GEKS procedure takes into account the relative prices between all of the countries as a group. The GEKS is needed to make the Fisher-type bilateral PPPs transitive and base country–invariant. Transitivity simply means that the PPP between any two countries should be the same whether it is computed directly or indirectly through a third country (like with market exchange rates). Base country–invariant means that the PPPs between any two countries should be the same regardless of the choice of base country."
   ]
  },
  {
   "cell_type": "code",
   "execution_count": 16,
   "metadata": {},
   "outputs": [],
   "source": [
    "#Calculate GEKS multilateral ppps \n",
    "##reqs the earlier nangmean function \n",
    "geks = np.zeros(shape)  # zero 'country x country' matrix\n",
    "nrow=len(geks)  # gets the number of rows\n",
    "ncol=len(geks[0])\n",
    "\n",
    "for row in range(nrow):\n",
    "    for col in range(ncol):\n",
    "        geks[row][col]= nangmean(fi_ppp[row]/fi_ppp[col])     \n",
    "\n",
    "geks_vec = np.zeros(shape=(1,len(df_bhexp.columns))) # as we need a vector of ppps, not a matrix\n",
    "j=len(geks_vec[0])\n",
    "for col in range(j):#..one PPP per country, or col of bhexp df\n",
    "    geks_vec[:,col]=nangmean(geks[col,0]/geks[0,0]) #geomean over each row, w/ each col rebased to country in col1    \n",
    "\n",
    "geks_ppp = np.array(geks_vec)\n",
    "geks_ppp = np.round(geks_ppp,4) # round to 4 decimals"
   ]
  },
  {
   "cell_type": "markdown",
   "metadata": {},
   "source": [
    "Display the estimated vector of GEKS PPPs, containing one above-basic heading multilateral PPP per country."
   ]
  },
  {
   "cell_type": "code",
   "execution_count": 17,
   "metadata": {
    "scrolled": false
   },
   "outputs": [
    {
     "name": "stdout",
     "output_type": "stream",
     "text": [
      "\n",
      " GEKS Multilateral PPPs \n",
      "\n",
      "   country2  country1  country3  country4\n",
      "0       1.0    12.283   14.7285    0.0846 \n",
      "\n"
     ]
    }
   ],
   "source": [
    "geks_ppp = pd.DataFrame(geks_ppp)\n",
    "geks_ppp.columns = df_bhexp.columns\n",
    "geks_ppp = round(geks_ppp,4)\n",
    "\n",
    "print(\"\\n\",\"GEKS Multilateral PPPs\",\"\\n\")\n",
    "print(geks_ppp, \"\\n\")"
   ]
  }
 ],
 "metadata": {
  "kernelspec": {
   "display_name": "Python 3",
   "language": "python",
   "name": "python3"
  },
  "language_info": {
   "codemirror_mode": {
    "name": "ipython",
    "version": 3
   },
   "file_extension": ".py",
   "mimetype": "text/x-python",
   "name": "python",
   "nbconvert_exporter": "python",
   "pygments_lexer": "ipython3",
   "version": "3.7.1"
  }
 },
 "nbformat": 4,
 "nbformat_minor": 2
}
