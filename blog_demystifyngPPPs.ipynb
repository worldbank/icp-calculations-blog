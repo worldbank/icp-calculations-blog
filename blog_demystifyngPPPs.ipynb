{
 "cells": [
  {
   "cell_type": "markdown",
   "metadata": {},
   "source": [
    "# Demystifying ICP Purchasing Power Parity (PPP) Calculations\n",
    "\n",
    "####  Authors: William Vigil-Oliver and Shriya Chauhan"
   ]
  },
  {
   "cell_type": "markdown",
   "metadata": {},
   "source": [
    "---\n",
    "Contents\n",
    "- [Overview](#Overview) \n",
    "- [Load required Python libraries](#Libraries)  \n",
    "- [Load input data](#InputData) \n",
    "- [Calculate basic heading PPPs](#BHPPP)  \n",
    "- [Calculate above-basic heading PPPs](#aBHPPP)  \n",
    "---"
   ]
  },
  {
   "cell_type": "markdown",
   "metadata": {},
   "source": [
    "<a id=\"Overview\"></a>"
   ]
  },
  {
   "cell_type": "markdown",
   "metadata": {},
   "source": [
    "## Overview\n",
    "This notebook provides the accompanying code for the World Bank blog \"Demystifying ICP Purchasing Power Parity (PPP) Calculations\". Its purpose is to lay out the calculation steps and showcase the implementation of the main formulas needed to estimate ICP purchasing power parities (PPPs) at the regional level. The blog post is publicly available [here](http://worldbank.org/xxxxx). \n",
    "\n",
    "*Note*: Because the target audience may include users unfamiliar with Python or programming in general, we opted to show each calculation step as explicitly as possible, at the cost of having more modularized and computationally efficient code."
   ]
  },
  {
   "cell_type": "markdown",
   "metadata": {},
   "source": [
    "<a id=\"Libraries\"></a>"
   ]
  },
  {
   "cell_type": "markdown",
   "metadata": {},
   "source": [
    "## Load required Python libraries\n",
    "The code will require loading the following well-known Python libaries: `pandas`, `numpy` and `statsmodels` "
   ]
  },
  {
   "cell_type": "code",
   "execution_count": null,
   "metadata": {
    "scrolled": true
   },
   "outputs": [],
   "source": [
    "## Load libaries \n",
    "import pandas as pd\n",
    "import numpy as np \n",
    "import statsmodels.api as sm"
   ]
  },
  {
   "cell_type": "markdown",
   "metadata": {},
   "source": [
    "<a id=\"InputData\"></a>"
   ]
  },
  {
   "cell_type": "markdown",
   "metadata": {},
   "source": [
    "## Load input data\n",
    "\n",
    "Let us start by loading input dataset containing mock average price data and other relevant country-level information. "
   ]
  },
  {
   "cell_type": "code",
   "execution_count": null,
   "metadata": {
    "scrolled": true
   },
   "outputs": [],
   "source": [
    "#Load price data\n",
    "data=\"price_data.csv\"\n",
    "prices=pd.read_csv(data) \n",
    "prices # Show full dataset "
   ]
  },
  {
   "cell_type": "markdown",
   "metadata": {},
   "source": [
    "This mock dataset contains four countries ('country') and three basic headings ('bh'): garment, rice and pork. Each basic heading contains different varieties of garment, rice and pork. These varieties are contained in the column 'item'. Finally, an average price in local currency unit is reported for each item ('price') and information on the relative importance of each item in a country’s consumption at the basic heading level is contained in the importance column ('imp'). The ICP Technical Advisory Group (TAG) recommended that a weight of '3' be attached to items identified as 'important' and a weight of '1' to items deemed unimportant.\n",
    "\n",
    "Note that the full ICP classification consists of 155 basic headings.Also,notice that the number of item per basic headings varies from three (in the case of garments) to two (rice and pork). This should not be a problem and is common ocurrence in the ICP as basic headings vary in terms of the number of items they contain. Finally, notice that not all countries report prices for all items. Again, this a common situation in the actual ICP as not all items can be found or are priced in all countries."
   ]
  },
  {
   "cell_type": "markdown",
   "metadata": {},
   "source": [
    "<a id=\"BHPPP\"></a>"
   ]
  },
  {
   "cell_type": "markdown",
   "metadata": {},
   "source": [
    "## Calculate basic heading PPPs\n",
    "\n",
    "At the first stage, PPPs are first estimated for more than one hundred groups containing similar items. These groups are called 'basic headings' in the ICP literature. The basic heading is also the level of aggregation for which national accounts expenditures are requested to be provided by ICP-participating countries. The end-result of this first calculation stage are a set of several PPPs per country, one PPP for each basic heading per country.\n",
    "\n",
    "The estimation procedure involves averaging price relatives for individual items from different countries within each basic heading to obtain basic heading level PPPs. This is done via a regression method known as the weighted country product dummy (CPD-W). \n",
    "\n",
    "The CPD-W is carried out within each basic heading by regressing the logarithm of the observed country item prices on item dummies (one for each item) and country dummies (one for each country other than the numeraire). The CPD-W method also incorporates information on the relative importance of each item in a country’s consumption. Information about the relative importance of each item is reported by each ICP participating country. "
   ]
  },
  {
   "cell_type": "markdown",
   "metadata": {},
   "source": [
    "###  Select the numeraire\n",
    "This refers to the currrency against which all the estimated PPP values will be compared. In the case of the global PPP results, the numeraire would be the US dollar. In this case, we select the currency of 'country2' as the numeraire."
   ]
  },
  {
   "cell_type": "code",
   "execution_count": null,
   "metadata": {},
   "outputs": [],
   "source": [
    "## Select the reference or numeraire currency\n",
    "numeraire = 'country2' "
   ]
  },
  {
   "cell_type": "markdown",
   "metadata": {},
   "source": [
    "###  Prep the inputs to run the CPD-W"
   ]
  },
  {
   "cell_type": "code",
   "execution_count": null,
   "metadata": {},
   "outputs": [],
   "source": [
    "## Prep\n",
    "## Drop country-item observations without a price\n",
    "prices = prices[prices['price'].notnull()]\n",
    "\n",
    "## Dataframe with country prices\n",
    "d_country=pd.get_dummies(prices['country'])\n",
    "\n",
    "## Prepare design matrix for CPD-W\n",
    "d_country=pd.get_dummies(prices['country'])\n",
    "d_country.drop(numeraire, axis=1, inplace=True) #drop numeraire\n",
    "d_country = d_country.add_prefix('c_') #add prefix to countries\n",
    "d_item=pd.get_dummies(prices['item'],drop_first=False) #include all item dummies\n",
    "d_item = d_item.add_prefix('i_') #add prefix to items\n",
    "prices=pd.concat([prices,d_country,d_item],axis=1) # Concatenate the new cols\n",
    "\n",
    "## Create empty arrays to store results\n",
    "l_coef= [] # to store exp(beta_hats)\n",
    "l_bh= [] # to store bh labels\n"
   ]
  },
  {
   "cell_type": "markdown",
   "metadata": {},
   "source": [
    "###  Run the CPD-W on each basic heading and store results"
   ]
  },
  {
   "cell_type": "code",
   "execution_count": null,
   "metadata": {},
   "outputs": [],
   "source": [
    "for bh in prices.bh.unique():\n",
    "    tempdf=prices[prices.bh == bh] \n",
    "    X=tempdf.loc[:, [x for x in tempdf.columns if x.startswith(('c_', 'i_'))]]\n",
    "    y = np.log(tempdf['price']) \n",
    "    wts=tempdf['imp']\n",
    "\n",
    "    wts_cpd=sm.WLS(y, X,weights=wts)\n",
    "    res=wts_cpd.fit()\n",
    "    res_eparams=np.exp(res.params)\n",
    "    \n",
    "    print(\"\\n\",\"Basic Heading:\", bh, \"\\n\")\n",
    "    print('Exponentiated Parameters:',\"\\n\",\n",
    "          res_eparams)\n",
    "    \n",
    "    l_coef.append(res_eparams)\n",
    "    l_bh.append(bh)\n",
    "\n",
    "coef = np.array(l_coef, dtype=float)\n",
    "coef = np.round(coef,4) # round to 4 decimals\n",
    "cols = list(X) #store column heads of X as a list\n",
    "coef[coef == 1] = np.nan #%% replace PPPs that were exp(0)=1 with 'np.nan'"
   ]
  },
  {
   "cell_type": "markdown",
   "metadata": {},
   "source": [
    "The results above show the estimated coefficients from the CPD-W method for each of the three basic headings. Of particular interest are the estimated coefficients on the country dummies (denoted by the prefix 'c_') as they are the natural log of the estimated country PPP for the basic heading in question. Note that the estimated coefficients have already been exponentiated."
   ]
  },
  {
   "cell_type": "markdown",
   "metadata": {},
   "source": [
    "###  Gather and display the estimated basic heading PPPs "
   ]
  },
  {
   "cell_type": "code",
   "execution_count": null,
   "metadata": {
    "scrolled": false
   },
   "outputs": [],
   "source": [
    "#Create dataframe of PPP results from numpy arrays\n",
    "#dimension = \"# BHs\" x \"# coef\"\n",
    "df_bhppp=pd.DataFrame(data = coef, index = l_bh, columns = cols)\n",
    "c_numeraire=f\"c_{numeraire}\"\n",
    "df_bhppp.insert(0, c_numeraire, 1.000) #insert column of 1s for numeraire\n",
    "\n",
    "df_bhppp=df_bhppp.loc[:, [x for x in df_bhppp.columns if x.startswith(('c_'))]] #subsetting to store only country level PPPs\n",
    "df_bhppp.columns = df_bhppp.columns.str.replace('^c_', '') \n",
    "\n",
    "#Column sorting function\n",
    "def sorting(first_col, df):\n",
    "    columns = df.columns.tolist()\n",
    "    columns.remove(first_col)\n",
    "    columns.insert(0,first_col)\n",
    "    return df.reindex(columns, axis=1)\n",
    "\n",
    "#Sort cols with numeraire as col1\n",
    "sorting(numeraire,df_bhppp)\n",
    "\n",
    "print(\"\\n\",\"Basic Heading PPPs\",\"\\n\")\n",
    "print(df_bhppp, \"\\n\")"
   ]
  },
  {
   "cell_type": "markdown",
   "metadata": {},
   "source": [
    "<a id=\"aBHPPP\"></a>"
   ]
  },
  {
   "cell_type": "markdown",
   "metadata": {},
   "source": [
    "## Calculate above-basic heading PPPs\n",
    "\n",
    "At the second stage of calculation, PPPs estimated at the basic heading level are aggregated using national accounts expenditures in local currency for each country as weights.\n",
    "\n",
    "The aggregation method involves constructing bilateral PPPs for each pair of countries, using basic heading level national accounts expenditures as weights from each country in turn. First, a Laspeyres-type bilateral PPP is calculated between each pair of countries, then a Paasche-type bilateral PPP and finally a Fisher-type bilateral PPP. As a last step, the matrix of Fisher-type bilateral PPPs is made transitive using the Gini-Éltető-Köves-Szulc (GEKS) approach to arrive at a final vector of above basic headings PPPs, containing one PPP for each country relative to the numeraire."
   ]
  },
  {
   "cell_type": "markdown",
   "metadata": {},
   "source": [
    "###  Load and display basic heading expenditure values\n",
    "As a first step let us load the basic heading level national accounts expenditure values in local currency unit for each country."
   ]
  },
  {
   "cell_type": "code",
   "execution_count": null,
   "metadata": {},
   "outputs": [],
   "source": [
    "#Load basic heading expenditure values\n",
    "#Should contain bh and countries with prefix c\n",
    "code=\"bhdata_exp.csv\"\n",
    "df_bh=pd.read_csv(code,index_col=\"icp_bh\")"
   ]
  },
  {
   "cell_type": "code",
   "execution_count": null,
   "metadata": {},
   "outputs": [],
   "source": [
    "#Sort cols with numeraire as col1\n",
    "def sorting(first_col, df):\n",
    "    columns = df.columns.tolist()\n",
    "    columns.remove(first_col)\n",
    "    columns.insert(0,first_col)\n",
    "    return df.reindex(columns, axis=1)\n",
    "\n",
    "df_bhexp=sorting(c_numeraire,df_bh)\n",
    "\n",
    "print(\"\\n\",\"Basic Heading Expenditure Values in Local Currency Units\",\"\\n\")\n",
    "print(df_bhexp, \"\\n\")"
   ]
  },
  {
   "cell_type": "markdown",
   "metadata": {},
   "source": [
    "###  Check the basic heading PPP and basic heading expenditure matrices\n",
    "Before proceeding, it is important to check that both the basic heading PPP and basic heading expenditure matrices have the same dimensions. It is also important to check that the matrix of basic heading PPPs is complete. If the dimensions of the two matrices do not match or the basic heading PPP matrix is incomplete then aggregation at higher aggregate levels is not possible using the formulas employed by the ICP. "
   ]
  },
  {
   "cell_type": "code",
   "execution_count": null,
   "metadata": {},
   "outputs": [],
   "source": [
    "df_bhexp.columns = df_bhexp.columns.str.replace('^c_', '') \n",
    "\n",
    "print(\"Dimensions of Matrices (no. of headings x no. of countries):\",\"\\n\")\n",
    "print(\"BH Purchasing Power Parities (PPPs)  = \",df_bhppp.shape)\n",
    "print(\"BH Nominal Expenditures in LCUs      = \", df_bhexp.shape)"
   ]
  },
  {
   "cell_type": "markdown",
   "metadata": {},
   "source": [
    "Both matrices have the same dimensions and basic heading PPP matrix is complete, so let us proceed."
   ]
  },
  {
   "cell_type": "markdown",
   "metadata": {},
   "source": [
    "###  Calculate bilateral PPPs (Laspeyres-, Paasche-, and Fisher-type)\n"
   ]
  },
  {
   "cell_type": "markdown",
   "metadata": {},
   "source": [
    "Calculate the Laspeyres-type bilateral PPPs"
   ]
  },
  {
   "cell_type": "code",
   "execution_count": null,
   "metadata": {},
   "outputs": [],
   "source": [
    "#Calculate Laspeyres bilateral ppps \n",
    "shape = (len(df_bhexp.columns),len(df_bhexp.columns))\n",
    "lp = np.zeros(shape) #square matrix: country x country\n",
    "nrow= len(lp)  # gets the number of rows\n",
    "ncol = len(lp[0]) #get the number of cols\n",
    "\n",
    "for row in range(nrow):\n",
    "    for col in range(ncol):\n",
    "        #weighted means by looping over df rows\n",
    "        lp[row][col]= np.average((df_bhppp.iloc[:,row]/df_bhppp.iloc[:,col]),weights=df_bhexp.iloc[:,col])\n",
    "\n",
    "lp_ppp = lp\n",
    "lp_ppp=pd.DataFrame(data = lp_ppp, index = df_bhexp.columns, columns = df_bhexp.columns)\n",
    "lp_ppp = round(lp_ppp,3)"
   ]
  },
  {
   "cell_type": "markdown",
   "metadata": {},
   "source": [
    "Square ('country x country') matrix of Laspeyres-type (bilateral) PPPs"
   ]
  },
  {
   "cell_type": "code",
   "execution_count": null,
   "metadata": {},
   "outputs": [],
   "source": [
    "print(\"\\n\", \"Laspeyres-type bilateral PPPs:\",\"\\n\")\n",
    "print(lp_ppp, \"\\n\")"
   ]
  },
  {
   "cell_type": "markdown",
   "metadata": {},
   "source": [
    "Derive the Paasche-type bilateral PPPs by taking the reciprocal of the transpose of the Laspeyres-type bilateral PPP "
   ]
  },
  {
   "cell_type": "code",
   "execution_count": null,
   "metadata": {},
   "outputs": [],
   "source": [
    "#Calculate Paasche bilateral ppps \n",
    "pa = np.transpose(np.reciprocal(lp))\n",
    "pa_ppp=pd.DataFrame(data = pa, index = df_bhexp.columns, columns = df_bhexp.columns)\n",
    "pa_ppp = round(pa_ppp,3)"
   ]
  },
  {
   "cell_type": "markdown",
   "metadata": {},
   "source": [
    "Square ('country x country') matrix of Paasche-type (bilateral) PPPs"
   ]
  },
  {
   "cell_type": "code",
   "execution_count": null,
   "metadata": {},
   "outputs": [],
   "source": [
    "print(\"\\n\", \"Paasche-type bilateral PPPs:\",\"\\n\")\n",
    "print(pa_ppp, \"\\n\")"
   ]
  },
  {
   "cell_type": "markdown",
   "metadata": {},
   "source": [
    "Derive the Fisher-type bilateral PPPs by taking the geometric mean of the Laspeyres-type \n",
    "and Paasche-type bilateral PPPs for the aggregate"
   ]
  },
  {
   "cell_type": "code",
   "execution_count": null,
   "metadata": {},
   "outputs": [],
   "source": [
    "#Create geomean function\n",
    "def nangmean(arr, axis=None):\n",
    "    arr = np.asarray(arr)\n",
    "    inverse_valids = 1. / np.sum(~np.isnan(arr), axis=axis)  # could be a problem for all-nan-axis\n",
    "    rhs = inverse_valids * np.nansum(np.log(arr), axis=axis)\n",
    "    return np.exp(rhs)\n",
    "\n",
    "#Calculate Fisher bilateral ppps \n",
    "fi = np.zeros(shape)\n",
    "nrow=len(fi)\n",
    "ncol=len(fi[0])\n",
    "\n",
    "for row in range(nrow):\n",
    "    for col in range(ncol):\n",
    "        fi[row][col]= nangmean([lp[row][col],pa[row][col]])\n",
    "\n",
    "fi_ppp=pd.DataFrame(data = fi, index = df_bhexp.columns, columns = df_bhexp.columns)\n",
    "fi_ppp = round(fi_ppp,3)"
   ]
  },
  {
   "cell_type": "markdown",
   "metadata": {},
   "source": [
    "Square ('country x country') matrix of bilateral (Fisher-type) PPPs"
   ]
  },
  {
   "cell_type": "code",
   "execution_count": null,
   "metadata": {},
   "outputs": [],
   "source": [
    "print(\"Fisher-type bilateral PPPs:\",\"\\n\")\n",
    "print(fi_ppp, \"\\n\")"
   ]
  },
  {
   "cell_type": "markdown",
   "metadata": {},
   "source": [
    "###  Calculate GEKS PPPs\n",
    "\n",
    "Finally, let us calculate the GEKS PPPs between each country and the numeraire. The GEKS PPPs for country with respect to the numeraire is given by the geometric mean of the Fisher-type PPP relatives between each pair of countries and the remaining countries. The result is not a matrix of bilateral PPPs but, instead, a vector of PPPs (one PPP per country). \n",
    "\n",
    "This vector of PPPs is referred to as 'multilateral PPPs' because the GEKS procedure considers the relative prices between all of the countries as a group. The GEKS is needed to make the Fisher-type bilateral PPPs transitive and base country–invariant. Transitivity simply means that the PPP between any two countries should be the same whether it is computed directly or indirectly through a third country (like with market exchange rates). Base country–invariant means that the PPPs between any two countries should be the same regardless of the choice of base country."
   ]
  },
  {
   "cell_type": "code",
   "execution_count": null,
   "metadata": {},
   "outputs": [],
   "source": [
    "#Calculate GEKS multilateral ppps \n",
    "##reqs the earlier nangmean function \n",
    "geks = np.zeros(shape)  # zero 'country x country' matrix\n",
    "nrow=len(geks)  # gets the number of rows\n",
    "ncol=len(geks[0])\n",
    "\n",
    "for row in range(nrow):\n",
    "    for col in range(ncol):\n",
    "        geks[row][col]= nangmean(fi[row]/fi[col])     \n",
    "\n",
    "geks_vec = np.zeros(shape=(1,len(df_bhexp.columns))) # as we need a vector of ppps, not a matrix\n",
    "j=len(geks_vec[0])\n",
    "for col in range(j):#..one PPP per country, or col of bhexp df\n",
    "    geks_vec[:,col]=nangmean(geks[col,0]/geks[0,0]) #geomean over each row, w/ each col rebased to country in col1    \n",
    "\n",
    "geks_ppp = np.array(geks_vec)\n",
    "geks_ppp = np.round(geks_ppp,4) # round to 4 decimals"
   ]
  },
  {
   "cell_type": "markdown",
   "metadata": {},
   "source": [
    "Display the estimated vector of GEKS PPPs, containing one above-basic heading multilateral PPP per country."
   ]
  },
  {
   "cell_type": "code",
   "execution_count": null,
   "metadata": {
    "scrolled": false
   },
   "outputs": [],
   "source": [
    "geks_ppp = pd.DataFrame(geks_ppp)\n",
    "geks_ppp.columns = df_bhexp.columns\n",
    "geks_ppp = round(geks_ppp,3)\n",
    "\n",
    "print(\"\\n\",\"GEKS Multilateral PPPs:\",\"\\n\")\n",
    "print(geks_ppp.to_string(index=False), \"\\n\")"
   ]
  }
 ],
 "metadata": {
  "kernelspec": {
   "display_name": "Python 3",
   "language": "python",
   "name": "python3"
  },
  "language_info": {
   "codemirror_mode": {
    "name": "ipython",
    "version": 3
   },
   "file_extension": ".py",
   "mimetype": "text/x-python",
   "name": "python",
   "nbconvert_exporter": "python",
   "pygments_lexer": "ipython3",
   "version": "3.7.4"
  }
 },
 "nbformat": 4,
 "nbformat_minor": 2
}
